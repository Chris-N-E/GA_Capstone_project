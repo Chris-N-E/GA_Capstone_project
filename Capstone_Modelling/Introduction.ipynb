{
 "cells": [
  {
   "cell_type": "markdown",
   "id": "4f13e09f",
   "metadata": {},
   "source": [
    "# Employee Churn Model: A Human Resources Analytics Project"
   ]
  },
  {
   "cell_type": "markdown",
   "id": "b18b5daa",
   "metadata": {},
   "source": [
    " "
   ]
  },
  {
   "cell_type": "markdown",
   "id": "4c9e4054",
   "metadata": {},
   "source": [
    "# Table of Contents "
   ]
  },
  {
   "cell_type": "markdown",
   "id": "9ac6909a",
   "metadata": {},
   "source": [
    "## Business Question"
   ]
  },
  {
   "cell_type": "markdown",
   "id": "be52e801",
   "metadata": {},
   "source": [
    "### Problem Definition\n",
    "\n",
    "Employee turnover or churn is a costly problem for companies and is the rate at which an employer gains and losses employees. It is costly to replace workers because of the productivity losses when someone leaves a job, the costs of hiring and training a new employee, and the slower productivity until the new employee gets up to speed in their new job. Studies show that the estimated cost of losing an employee can cost a company 1.5 - 2 times the employee's salary."
   ]
  },
  {
   "cell_type": "markdown",
   "id": "5fc1aa5c",
   "metadata": {},
   "source": [
    "### Problem Statement\n",
    "\n",
    "Implementing workplace policies that benefit workers and help boost employee retention is not simply a “nice” thing for businesses to do for their employees. Maintaining a stable workforce by reducing employee turnover through understanding why and when employees are most likely to leave can lead to the implementation of policies to improve employee retention as well as possibly planning new hiring in advance. This makes good business sense, as it can result in significant cost savings to employers.\n",
    "\n",
    "In this project, we will attempt to answer the following questions:\n",
    "\n",
    ">**What is the likelihood of an active employee leaving the company?** <br> \n",
    ">**What are the key indicators of an employee leaving the company?** <br> \n",
    ">**What policies or strategies can be adopted based on the results to improve employee retention?**"
   ]
  },
  {
   "cell_type": "markdown",
   "id": "c49fcdc7",
   "metadata": {},
   "source": [
    "### Evaluation Metric (KPI)"
   ]
  },
  {
   "cell_type": "markdown",
   "id": "ca83fedf",
   "metadata": {},
   "source": [
    "This is a **binary classification** task, where given a set of features about an employee we can predict whether that employee is likely to leave or not. As such, we will be using the following metrics:\n",
    "\n",
    ">- **Confusion matrix** - To measure the number of correct/incorrect predictions made by the model.\n",
    ">- **AUC_ROC** - It considers the rank of the output probabilities and intuitively measures the likelihood that model can distinguish between a positive point and a negative point. (Note: AUC_ROC is typically used for binary classification only). We will use AUC to select the best model.\n"
   ]
  }
 ],
 "metadata": {
  "kernelspec": {
   "display_name": "Python 3 (ipykernel)",
   "language": "python",
   "name": "python3"
  },
  "language_info": {
   "codemirror_mode": {
    "name": "ipython",
    "version": 3
   },
   "file_extension": ".py",
   "mimetype": "text/x-python",
   "name": "python",
   "nbconvert_exporter": "python",
   "pygments_lexer": "ipython3",
   "version": "3.9.7"
  },
  "toc": {
   "base_numbering": 1,
   "nav_menu": {},
   "number_sections": true,
   "sideBar": true,
   "skip_h1_title": true,
   "title_cell": "Table of Contents",
   "title_sidebar": "Contents",
   "toc_cell": false,
   "toc_position": {
    "height": "calc(100% - 180px)",
    "left": "10px",
    "top": "150px",
    "width": "312.7708435058594px"
   },
   "toc_section_display": true,
   "toc_window_display": false
  }
 },
 "nbformat": 4,
 "nbformat_minor": 5
}
