{
 "cells": [
  {
   "cell_type": "markdown",
   "id": "6a3d44ad-3485-400e-b363-d7c9a33b9b34",
   "metadata": {},
   "source": [
    "# Download Kaggle Dataset"
   ]
  },
  {
   "cell_type": "markdown",
   "id": "fb5b1fb4-758e-4c81-9031-614a93232575",
   "metadata": {
    "tags": []
   },
   "source": [
    "### Install Kaggle API"
   ]
  },
  {
   "cell_type": "code",
   "execution_count": 2,
   "id": "559034a4-6a70-4ba0-bcc8-a0bb03e721ce",
   "metadata": {
    "tags": []
   },
   "outputs": [
    {
     "name": "stdout",
     "output_type": "stream",
     "text": [
      "Collecting Kaggle\n",
      "  Downloading kaggle-1.5.12.tar.gz (58 kB)\n",
      "\u001b[K     |████████████████████████████████| 58 kB 274 kB/s eta 0:00:011\n",
      "\u001b[?25hRequirement already satisfied: six>=1.10 in /Users/christineezeogu/opt/anaconda3/lib/python3.9/site-packages (from Kaggle) (1.16.0)\n",
      "Requirement already satisfied: certifi in /Users/christineezeogu/opt/anaconda3/lib/python3.9/site-packages (from Kaggle) (2021.10.8)\n",
      "Requirement already satisfied: python-dateutil in /Users/christineezeogu/opt/anaconda3/lib/python3.9/site-packages (from Kaggle) (2.8.2)\n",
      "Requirement already satisfied: requests in /Users/christineezeogu/opt/anaconda3/lib/python3.9/site-packages (from Kaggle) (2.26.0)\n",
      "Requirement already satisfied: tqdm in /Users/christineezeogu/opt/anaconda3/lib/python3.9/site-packages (from Kaggle) (4.62.3)\n",
      "Requirement already satisfied: python-slugify in /Users/christineezeogu/opt/anaconda3/lib/python3.9/site-packages (from Kaggle) (5.0.2)\n",
      "Requirement already satisfied: urllib3 in /Users/christineezeogu/opt/anaconda3/lib/python3.9/site-packages (from Kaggle) (1.26.7)\n",
      "Requirement already satisfied: text-unidecode>=1.3 in /Users/christineezeogu/opt/anaconda3/lib/python3.9/site-packages (from python-slugify->Kaggle) (1.3)\n",
      "Requirement already satisfied: charset-normalizer~=2.0.0 in /Users/christineezeogu/opt/anaconda3/lib/python3.9/site-packages (from requests->Kaggle) (2.0.4)\n",
      "Requirement already satisfied: idna<4,>=2.5 in /Users/christineezeogu/opt/anaconda3/lib/python3.9/site-packages (from requests->Kaggle) (3.2)\n",
      "Building wheels for collected packages: Kaggle\n",
      "  Building wheel for Kaggle (setup.py) ... \u001b[?25ldone\n",
      "\u001b[?25h  Created wheel for Kaggle: filename=kaggle-1.5.12-py3-none-any.whl size=73051 sha256=86ae9ae7e2222b66a84b9f69c0a5ffd422dc7f68970717d2913c4da2ee5fc645\n",
      "  Stored in directory: /Users/christineezeogu/Library/Caches/pip/wheels/ac/b2/c3/fa4706d469b5879105991d1c8be9a3c2ef329ba9fe2ce5085e\n",
      "Successfully built Kaggle\n",
      "Installing collected packages: Kaggle\n",
      "Successfully installed Kaggle-1.5.12\n",
      "Note: you may need to restart the kernel to use updated packages.\n"
     ]
    }
   ],
   "source": [
    "pip install Kaggle"
   ]
  },
  {
   "cell_type": "markdown",
   "id": "03753334-e98e-4829-879f-026a8e2b6779",
   "metadata": {
    "tags": []
   },
   "source": [
    "### Go to https://www.kaggle.com/docs/api - download API key and dataset"
   ]
  },
  {
   "cell_type": "code",
   "execution_count": 5,
   "id": "415c75b9-2d54-4839-8219-6decf56060ca",
   "metadata": {},
   "outputs": [
    {
     "name": "stdout",
     "output_type": "stream",
     "text": [
      "mkdir: /Users/christineezeogu/.kaggle: File exists\n"
     ]
    }
   ],
   "source": [
    "!mkdir ~/.kaggle"
   ]
  },
  {
   "cell_type": "code",
   "execution_count": 9,
   "id": "79dc6117-fc21-488a-a85d-7b1cb207e88f",
   "metadata": {},
   "outputs": [],
   "source": [
    "!cp /Users/christineezeogu/Downloads/kaggle.json /Users/christineezeogu/.kaggle/kaggle.json"
   ]
  },
  {
   "cell_type": "code",
   "execution_count": 11,
   "id": "d9e87ec0-4ab0-41b7-ab53-1fc9e787b945",
   "metadata": {},
   "outputs": [
    {
     "name": "stdout",
     "output_type": "stream",
     "text": [
      "Warning: Your Kaggle API key is readable by other users on this system! To fix this, you can run 'chmod 600 /Users/christineezeogu/.kaggle/kaggle.json'\n"
     ]
    }
   ],
   "source": [
    "import kaggle"
   ]
  },
  {
   "cell_type": "code",
   "execution_count": 12,
   "id": "05c67712-4110-477d-a4eb-c11cd3ff4232",
   "metadata": {},
   "outputs": [
    {
     "name": "stdout",
     "output_type": "stream",
     "text": [
      "Warning: Your Kaggle API key is readable by other users on this system! To fix this, you can run 'chmod 600 /Users/christineezeogu/.kaggle/kaggle.json'\n",
      "Downloading predicting-employee-status.zip to /Users/christineezeogu/Desktop/Captsone Project/Employee Attrition/Project\n",
      "100%|█████████████████████████████████████████| 263k/263k [00:00<00:00, 543kB/s]\n",
      "100%|█████████████████████████████████████████| 263k/263k [00:00<00:00, 542kB/s]\n"
     ]
    }
   ],
   "source": [
    "!kaggle datasets download -d pranavsai98/predicting-employee-status"
   ]
  },
  {
   "cell_type": "markdown",
   "id": "e789aa49-6061-483f-9e4b-1f2d52f36059",
   "metadata": {},
   "source": [
    "### Extract the folder"
   ]
  },
  {
   "cell_type": "code",
   "execution_count": 13,
   "id": "877e7e8c-a163-4bdc-b498-bcf7c33fde9f",
   "metadata": {},
   "outputs": [],
   "source": [
    "from zipfile import ZipFile"
   ]
  },
  {
   "cell_type": "code",
   "execution_count": 15,
   "id": "d4a9027b-45ba-4c70-b791-4f104fac17bf",
   "metadata": {},
   "outputs": [
    {
     "name": "stdout",
     "output_type": "stream",
     "text": [
      "Done\n"
     ]
    }
   ],
   "source": [
    "file_name = 'predicting-employee-status.zip'\n",
    "with ZipFile(file_name, 'r') as zip:\n",
    "    zip.extractall()\n",
    "    print('Done')"
   ]
  },
  {
   "cell_type": "markdown",
   "id": "a90fb710-da53-4c96-a7cf-619a33bb4f66",
   "metadata": {},
   "source": [
    "### Load and read in the data"
   ]
  },
  {
   "cell_type": "code",
   "execution_count": 16,
   "id": "9530b60a-1b9d-4221-955c-a2bc0917d016",
   "metadata": {},
   "outputs": [],
   "source": [
    "import pandas as pd"
   ]
  },
  {
   "cell_type": "code",
   "execution_count": 18,
   "id": "e5a7a875-151f-43cc-af46-7728f83dccd0",
   "metadata": {},
   "outputs": [],
   "source": [
    "data = pd.read_csv('employee_data (1).csv')"
   ]
  },
  {
   "cell_type": "code",
   "execution_count": 19,
   "id": "6bb8b49c-d220-4c4e-a39d-355d75ac5b0c",
   "metadata": {},
   "outputs": [
    {
     "data": {
      "text/html": [
       "<div>\n",
       "<style scoped>\n",
       "    .dataframe tbody tr th:only-of-type {\n",
       "        vertical-align: middle;\n",
       "    }\n",
       "\n",
       "    .dataframe tbody tr th {\n",
       "        vertical-align: top;\n",
       "    }\n",
       "\n",
       "    .dataframe thead th {\n",
       "        text-align: right;\n",
       "    }\n",
       "</style>\n",
       "<table border=\"1\" class=\"dataframe\">\n",
       "  <thead>\n",
       "    <tr style=\"text-align: right;\">\n",
       "      <th></th>\n",
       "      <th>avg_monthly_hrs</th>\n",
       "      <th>department</th>\n",
       "      <th>filed_complaint</th>\n",
       "      <th>last_evaluation</th>\n",
       "      <th>n_projects</th>\n",
       "      <th>recently_promoted</th>\n",
       "      <th>salary</th>\n",
       "      <th>satisfaction</th>\n",
       "      <th>status</th>\n",
       "      <th>tenure</th>\n",
       "    </tr>\n",
       "  </thead>\n",
       "  <tbody>\n",
       "    <tr>\n",
       "      <th>0</th>\n",
       "      <td>221</td>\n",
       "      <td>engineering</td>\n",
       "      <td>NaN</td>\n",
       "      <td>0.932868</td>\n",
       "      <td>4</td>\n",
       "      <td>NaN</td>\n",
       "      <td>low</td>\n",
       "      <td>0.829896</td>\n",
       "      <td>Left</td>\n",
       "      <td>5.0</td>\n",
       "    </tr>\n",
       "    <tr>\n",
       "      <th>1</th>\n",
       "      <td>232</td>\n",
       "      <td>support</td>\n",
       "      <td>NaN</td>\n",
       "      <td>NaN</td>\n",
       "      <td>3</td>\n",
       "      <td>NaN</td>\n",
       "      <td>low</td>\n",
       "      <td>0.834544</td>\n",
       "      <td>Employed</td>\n",
       "      <td>2.0</td>\n",
       "    </tr>\n",
       "    <tr>\n",
       "      <th>2</th>\n",
       "      <td>184</td>\n",
       "      <td>sales</td>\n",
       "      <td>NaN</td>\n",
       "      <td>0.788830</td>\n",
       "      <td>3</td>\n",
       "      <td>NaN</td>\n",
       "      <td>medium</td>\n",
       "      <td>0.834988</td>\n",
       "      <td>Employed</td>\n",
       "      <td>3.0</td>\n",
       "    </tr>\n",
       "    <tr>\n",
       "      <th>3</th>\n",
       "      <td>206</td>\n",
       "      <td>sales</td>\n",
       "      <td>NaN</td>\n",
       "      <td>0.575688</td>\n",
       "      <td>4</td>\n",
       "      <td>NaN</td>\n",
       "      <td>low</td>\n",
       "      <td>0.424764</td>\n",
       "      <td>Employed</td>\n",
       "      <td>2.0</td>\n",
       "    </tr>\n",
       "    <tr>\n",
       "      <th>4</th>\n",
       "      <td>249</td>\n",
       "      <td>sales</td>\n",
       "      <td>NaN</td>\n",
       "      <td>0.845217</td>\n",
       "      <td>3</td>\n",
       "      <td>NaN</td>\n",
       "      <td>low</td>\n",
       "      <td>0.779043</td>\n",
       "      <td>Employed</td>\n",
       "      <td>3.0</td>\n",
       "    </tr>\n",
       "  </tbody>\n",
       "</table>\n",
       "</div>"
      ],
      "text/plain": [
       "   avg_monthly_hrs   department  filed_complaint  last_evaluation  n_projects  \\\n",
       "0              221  engineering              NaN         0.932868           4   \n",
       "1              232      support              NaN              NaN           3   \n",
       "2              184        sales              NaN         0.788830           3   \n",
       "3              206        sales              NaN         0.575688           4   \n",
       "4              249        sales              NaN         0.845217           3   \n",
       "\n",
       "   recently_promoted  salary  satisfaction    status  tenure  \n",
       "0                NaN     low      0.829896      Left     5.0  \n",
       "1                NaN     low      0.834544  Employed     2.0  \n",
       "2                NaN  medium      0.834988  Employed     3.0  \n",
       "3                NaN     low      0.424764  Employed     2.0  \n",
       "4                NaN     low      0.779043  Employed     3.0  "
      ]
     },
     "execution_count": 19,
     "metadata": {},
     "output_type": "execute_result"
    }
   ],
   "source": [
    "data.head()"
   ]
  },
  {
   "cell_type": "markdown",
   "id": "ac1953a1-def8-4825-a7c6-11c96b5e12dc",
   "metadata": {},
   "source": [
    "### Save the dataset"
   ]
  },
  {
   "cell_type": "code",
   "execution_count": 20,
   "id": "ab695d71-123b-4b5c-8a20-aa4cfecc3829",
   "metadata": {},
   "outputs": [],
   "source": [
    "data.to_csv('employee_data.csv')"
   ]
  },
  {
   "cell_type": "markdown",
   "id": "23f77a8a",
   "metadata": {},
   "source": [
    "## Create, Save data dictionary to csv & Read in the csv"
   ]
  },
  {
   "cell_type": "code",
   "execution_count": 1,
   "id": "d0211124",
   "metadata": {},
   "outputs": [],
   "source": [
    "import pandas as pd\n",
    "import csv"
   ]
  },
  {
   "cell_type": "code",
   "execution_count": 2,
   "id": "76c28ca1",
   "metadata": {},
   "outputs": [],
   "source": [
    "# Create  list of columns names\n",
    "column_names = ['Heading', 'Description']\n",
    "\n",
    "# Create list of python dictionary\n",
    "data_description = [\n",
    "{'Heading': 'status', 'Description': 'Current employment status (Employed / Left)'},\n",
    "{'Heading': 'department', 'Description': 'Department employees belong(ed) to'},\n",
    "{'Heading': 'salary', 'Description': 'Salary level relative to rest of their department'},\n",
    "{'Heading': 'tenure', 'Description': 'Number of years at the company'},    \n",
    "{'Heading': 'recently_promoted', 'Description': 'Was the employee promoted in the last 3 years?'},\n",
    "{'Heading': 'n_projects', 'Description': 'Number of projects employee is staffed on'},   \n",
    "{'Heading': 'avg_monthly_hrs', 'Description': 'Average number of hours worked per month'},    \n",
    "{'Heading': 'satisfaction', 'Description': 'Score for employee’s satisfaction with the company (higher is better)'},   \n",
    "{'Heading': 'last_evaluation', 'Description': 'Score for most recent evaluation of employee (higher is better)'},   \n",
    "{'Heading': 'filed_complaint', 'Description': 'Has the employee filed a formal complaint in the last 3 years?'}\n",
    "]    \n",
    "    "
   ]
  },
  {
   "cell_type": "code",
   "execution_count": 4,
   "id": "5fa4b895",
   "metadata": {},
   "outputs": [],
   "source": [
    "# The writeheader() method writes the first line in the csv file as the column names. \n",
    "# The 'for loop' writes each row in csv form to the csv file.\n",
    "\n",
    "csv_file = \"data_dict.csv\"\n",
    "try:\n",
    "    with open(csv_file, 'w') as csvfile:\n",
    "        writer = csv.DictWriter(csvfile, fieldnames=column_names)\n",
    "        writer.writeheader()\n",
    "        for data in data_description:\n",
    "            writer.writerow(data)\n",
    "except IOError:\n",
    "    print(\"I/O error\")"
   ]
  },
  {
   "cell_type": "markdown",
   "id": "baf8d7e2",
   "metadata": {},
   "source": [
    "#### Read in the data Dictionary"
   ]
  },
  {
   "cell_type": "code",
   "execution_count": 6,
   "id": "de0b0830",
   "metadata": {
    "scrolled": true
   },
   "outputs": [
    {
     "data": {
      "text/html": [
       "<div>\n",
       "<style scoped>\n",
       "    .dataframe tbody tr th:only-of-type {\n",
       "        vertical-align: middle;\n",
       "    }\n",
       "\n",
       "    .dataframe tbody tr th {\n",
       "        vertical-align: top;\n",
       "    }\n",
       "\n",
       "    .dataframe thead th {\n",
       "        text-align: right;\n",
       "    }\n",
       "</style>\n",
       "<table border=\"1\" class=\"dataframe\">\n",
       "  <thead>\n",
       "    <tr style=\"text-align: right;\">\n",
       "      <th></th>\n",
       "      <th>Description</th>\n",
       "    </tr>\n",
       "    <tr>\n",
       "      <th>Heading</th>\n",
       "      <th></th>\n",
       "    </tr>\n",
       "  </thead>\n",
       "  <tbody>\n",
       "    <tr>\n",
       "      <th>status</th>\n",
       "      <td>Current employment status (Employed / Left)</td>\n",
       "    </tr>\n",
       "    <tr>\n",
       "      <th>department</th>\n",
       "      <td>Department employees belong(ed) to</td>\n",
       "    </tr>\n",
       "    <tr>\n",
       "      <th>salary</th>\n",
       "      <td>Salary level relative to rest of their department</td>\n",
       "    </tr>\n",
       "    <tr>\n",
       "      <th>tenure</th>\n",
       "      <td>Number of years at the company</td>\n",
       "    </tr>\n",
       "    <tr>\n",
       "      <th>recently_promoted</th>\n",
       "      <td>Was the employee promoted in the last 3 years?</td>\n",
       "    </tr>\n",
       "    <tr>\n",
       "      <th>n_projects</th>\n",
       "      <td>Number of projects employee is staffed on</td>\n",
       "    </tr>\n",
       "    <tr>\n",
       "      <th>avg_monthly_hrs</th>\n",
       "      <td>Average number of hours worked per month</td>\n",
       "    </tr>\n",
       "    <tr>\n",
       "      <th>satisfaction</th>\n",
       "      <td>Score for employee’s satisfaction with the company (higher is better)</td>\n",
       "    </tr>\n",
       "    <tr>\n",
       "      <th>last_evaluation</th>\n",
       "      <td>Score for most recent evaluation of employee (higher is better)</td>\n",
       "    </tr>\n",
       "    <tr>\n",
       "      <th>filed_complaint</th>\n",
       "      <td>Has the employee filed a formal complaint in the last 3 years?</td>\n",
       "    </tr>\n",
       "  </tbody>\n",
       "</table>\n",
       "</div>"
      ],
      "text/plain": [
       "                                                                             Description\n",
       "Heading                                                                                 \n",
       "status                                       Current employment status (Employed / Left)\n",
       "department                                            Department employees belong(ed) to\n",
       "salary                                 Salary level relative to rest of their department\n",
       "tenure                                                    Number of years at the company\n",
       "recently_promoted                         Was the employee promoted in the last 3 years?\n",
       "n_projects                                     Number of projects employee is staffed on\n",
       "avg_monthly_hrs                                 Average number of hours worked per month\n",
       "satisfaction       Score for employee’s satisfaction with the company (higher is better)\n",
       "last_evaluation          Score for most recent evaluation of employee (higher is better)\n",
       "filed_complaint           Has the employee filed a formal complaint in the last 3 years?"
      ]
     },
     "execution_count": 6,
     "metadata": {},
     "output_type": "execute_result"
    }
   ],
   "source": [
    "# untruncate the Description column using the set_option method\n",
    "pd.set_option('display.max_colwidth', None)\n",
    "pd.read_csv(\"data_dict.csv\", index_col = \"Heading\")"
   ]
  },
  {
   "cell_type": "code",
   "execution_count": null,
   "id": "706b5ac2",
   "metadata": {},
   "outputs": [],
   "source": []
  }
 ],
 "metadata": {
  "kernelspec": {
   "display_name": "Python 3 (ipykernel)",
   "language": "python",
   "name": "python3"
  },
  "language_info": {
   "codemirror_mode": {
    "name": "ipython",
    "version": 3
   },
   "file_extension": ".py",
   "mimetype": "text/x-python",
   "name": "python",
   "nbconvert_exporter": "python",
   "pygments_lexer": "ipython3",
   "version": "3.9.7"
  }
 },
 "nbformat": 4,
 "nbformat_minor": 5
}
